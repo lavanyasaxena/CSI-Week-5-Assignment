{
 "cells": [
  {
   "cell_type": "markdown",
   "id": "e737c7f3-5c9a-4c0e-81f1-b46c08546d40",
   "metadata": {},
   "source": [
    "# Week 5: House Price Prediction"
   ]
  },
  {
   "cell_type": "markdown",
   "id": "d00643dc-5441-4aa4-aa0d-c1032b9b244c",
   "metadata": {},
   "source": [
    "## Importing necessary libraries and dataset"
   ]
  },
  {
   "cell_type": "code",
   "execution_count": 3,
   "id": "80b323da-0880-4fc0-83ec-4e826ff93b1b",
   "metadata": {},
   "outputs": [],
   "source": [
    "import numpy as np\n",
    "import pandas as pd\n",
    "import matplotlib.pyplot as plt\n",
    "import seaborn as sns"
   ]
  },
  {
   "cell_type": "code",
   "execution_count": 5,
   "id": "654ee40c-6f04-4f39-9db4-e7546be86708",
   "metadata": {},
   "outputs": [
    {
     "data": {
      "text/html": [
       "<div>\n",
       "<style scoped>\n",
       "    .dataframe tbody tr th:only-of-type {\n",
       "        vertical-align: middle;\n",
       "    }\n",
       "\n",
       "    .dataframe tbody tr th {\n",
       "        vertical-align: top;\n",
       "    }\n",
       "\n",
       "    .dataframe thead th {\n",
       "        text-align: right;\n",
       "    }\n",
       "</style>\n",
       "<table border=\"1\" class=\"dataframe\">\n",
       "  <thead>\n",
       "    <tr style=\"text-align: right;\">\n",
       "      <th></th>\n",
       "      <th>Id</th>\n",
       "      <th>Area</th>\n",
       "      <th>Bedrooms</th>\n",
       "      <th>Bathrooms</th>\n",
       "      <th>Floors</th>\n",
       "      <th>YearBuilt</th>\n",
       "      <th>Location</th>\n",
       "      <th>Condition</th>\n",
       "      <th>Garage</th>\n",
       "      <th>Price</th>\n",
       "    </tr>\n",
       "  </thead>\n",
       "  <tbody>\n",
       "    <tr>\n",
       "      <th>0</th>\n",
       "      <td>1</td>\n",
       "      <td>1360</td>\n",
       "      <td>5</td>\n",
       "      <td>4</td>\n",
       "      <td>3</td>\n",
       "      <td>1970</td>\n",
       "      <td>Downtown</td>\n",
       "      <td>Excellent</td>\n",
       "      <td>No</td>\n",
       "      <td>149919</td>\n",
       "    </tr>\n",
       "    <tr>\n",
       "      <th>1</th>\n",
       "      <td>2</td>\n",
       "      <td>4272</td>\n",
       "      <td>5</td>\n",
       "      <td>4</td>\n",
       "      <td>3</td>\n",
       "      <td>1958</td>\n",
       "      <td>Downtown</td>\n",
       "      <td>Excellent</td>\n",
       "      <td>No</td>\n",
       "      <td>424998</td>\n",
       "    </tr>\n",
       "    <tr>\n",
       "      <th>2</th>\n",
       "      <td>3</td>\n",
       "      <td>3592</td>\n",
       "      <td>2</td>\n",
       "      <td>2</td>\n",
       "      <td>3</td>\n",
       "      <td>1938</td>\n",
       "      <td>Downtown</td>\n",
       "      <td>Good</td>\n",
       "      <td>No</td>\n",
       "      <td>266746</td>\n",
       "    </tr>\n",
       "    <tr>\n",
       "      <th>3</th>\n",
       "      <td>4</td>\n",
       "      <td>966</td>\n",
       "      <td>4</td>\n",
       "      <td>2</td>\n",
       "      <td>2</td>\n",
       "      <td>1902</td>\n",
       "      <td>Suburban</td>\n",
       "      <td>Fair</td>\n",
       "      <td>Yes</td>\n",
       "      <td>244020</td>\n",
       "    </tr>\n",
       "    <tr>\n",
       "      <th>4</th>\n",
       "      <td>5</td>\n",
       "      <td>4926</td>\n",
       "      <td>1</td>\n",
       "      <td>4</td>\n",
       "      <td>2</td>\n",
       "      <td>1975</td>\n",
       "      <td>Downtown</td>\n",
       "      <td>Fair</td>\n",
       "      <td>Yes</td>\n",
       "      <td>636056</td>\n",
       "    </tr>\n",
       "    <tr>\n",
       "      <th>...</th>\n",
       "      <td>...</td>\n",
       "      <td>...</td>\n",
       "      <td>...</td>\n",
       "      <td>...</td>\n",
       "      <td>...</td>\n",
       "      <td>...</td>\n",
       "      <td>...</td>\n",
       "      <td>...</td>\n",
       "      <td>...</td>\n",
       "      <td>...</td>\n",
       "    </tr>\n",
       "    <tr>\n",
       "      <th>1995</th>\n",
       "      <td>1996</td>\n",
       "      <td>4994</td>\n",
       "      <td>5</td>\n",
       "      <td>4</td>\n",
       "      <td>3</td>\n",
       "      <td>1923</td>\n",
       "      <td>Suburban</td>\n",
       "      <td>Poor</td>\n",
       "      <td>No</td>\n",
       "      <td>295620</td>\n",
       "    </tr>\n",
       "    <tr>\n",
       "      <th>1996</th>\n",
       "      <td>1997</td>\n",
       "      <td>3046</td>\n",
       "      <td>5</td>\n",
       "      <td>2</td>\n",
       "      <td>1</td>\n",
       "      <td>2019</td>\n",
       "      <td>Suburban</td>\n",
       "      <td>Poor</td>\n",
       "      <td>Yes</td>\n",
       "      <td>580929</td>\n",
       "    </tr>\n",
       "    <tr>\n",
       "      <th>1997</th>\n",
       "      <td>1998</td>\n",
       "      <td>1062</td>\n",
       "      <td>5</td>\n",
       "      <td>1</td>\n",
       "      <td>2</td>\n",
       "      <td>1903</td>\n",
       "      <td>Rural</td>\n",
       "      <td>Poor</td>\n",
       "      <td>No</td>\n",
       "      <td>476925</td>\n",
       "    </tr>\n",
       "    <tr>\n",
       "      <th>1998</th>\n",
       "      <td>1999</td>\n",
       "      <td>4062</td>\n",
       "      <td>3</td>\n",
       "      <td>1</td>\n",
       "      <td>2</td>\n",
       "      <td>1936</td>\n",
       "      <td>Urban</td>\n",
       "      <td>Excellent</td>\n",
       "      <td>Yes</td>\n",
       "      <td>161119</td>\n",
       "    </tr>\n",
       "    <tr>\n",
       "      <th>1999</th>\n",
       "      <td>2000</td>\n",
       "      <td>2989</td>\n",
       "      <td>5</td>\n",
       "      <td>1</td>\n",
       "      <td>3</td>\n",
       "      <td>1903</td>\n",
       "      <td>Suburban</td>\n",
       "      <td>Fair</td>\n",
       "      <td>No</td>\n",
       "      <td>482525</td>\n",
       "    </tr>\n",
       "  </tbody>\n",
       "</table>\n",
       "<p>2000 rows × 10 columns</p>\n",
       "</div>"
      ],
      "text/plain": [
       "        Id  Area  Bedrooms  Bathrooms  Floors  YearBuilt  Location  Condition  \\\n",
       "0        1  1360         5          4       3       1970  Downtown  Excellent   \n",
       "1        2  4272         5          4       3       1958  Downtown  Excellent   \n",
       "2        3  3592         2          2       3       1938  Downtown       Good   \n",
       "3        4   966         4          2       2       1902  Suburban       Fair   \n",
       "4        5  4926         1          4       2       1975  Downtown       Fair   \n",
       "...    ...   ...       ...        ...     ...        ...       ...        ...   \n",
       "1995  1996  4994         5          4       3       1923  Suburban       Poor   \n",
       "1996  1997  3046         5          2       1       2019  Suburban       Poor   \n",
       "1997  1998  1062         5          1       2       1903     Rural       Poor   \n",
       "1998  1999  4062         3          1       2       1936     Urban  Excellent   \n",
       "1999  2000  2989         5          1       3       1903  Suburban       Fair   \n",
       "\n",
       "     Garage   Price  \n",
       "0        No  149919  \n",
       "1        No  424998  \n",
       "2        No  266746  \n",
       "3       Yes  244020  \n",
       "4       Yes  636056  \n",
       "...     ...     ...  \n",
       "1995     No  295620  \n",
       "1996    Yes  580929  \n",
       "1997     No  476925  \n",
       "1998    Yes  161119  \n",
       "1999     No  482525  \n",
       "\n",
       "[2000 rows x 10 columns]"
      ]
     },
     "execution_count": 5,
     "metadata": {},
     "output_type": "execute_result"
    }
   ],
   "source": [
    "data=pd.read_csv(\"C:\\\\Users\\\\lavan\\\\OneDrive\\\\Desktop\\\\House Price Prediction Dataset.csv\")\n",
    "data"
   ]
  },
  {
   "cell_type": "code",
   "execution_count": 7,
   "id": "9f6d0365-f005-4916-a3ec-a4ec7ef03cb8",
   "metadata": {},
   "outputs": [
    {
     "data": {
      "text/plain": [
       "(2000, 10)"
      ]
     },
     "execution_count": 7,
     "metadata": {},
     "output_type": "execute_result"
    }
   ],
   "source": [
    "data.shape"
   ]
  },
  {
   "cell_type": "code",
   "execution_count": 9,
   "id": "6b5d22bf-ef77-4ecd-a7ae-e34ba5b3ca1e",
   "metadata": {},
   "outputs": [
    {
     "name": "stdout",
     "output_type": "stream",
     "text": [
      "<class 'pandas.core.frame.DataFrame'>\n",
      "RangeIndex: 2000 entries, 0 to 1999\n",
      "Data columns (total 10 columns):\n",
      " #   Column     Non-Null Count  Dtype \n",
      "---  ------     --------------  ----- \n",
      " 0   Id         2000 non-null   int64 \n",
      " 1   Area       2000 non-null   int64 \n",
      " 2   Bedrooms   2000 non-null   int64 \n",
      " 3   Bathrooms  2000 non-null   int64 \n",
      " 4   Floors     2000 non-null   int64 \n",
      " 5   YearBuilt  2000 non-null   int64 \n",
      " 6   Location   2000 non-null   object\n",
      " 7   Condition  2000 non-null   object\n",
      " 8   Garage     2000 non-null   object\n",
      " 9   Price      2000 non-null   int64 \n",
      "dtypes: int64(7), object(3)\n",
      "memory usage: 156.4+ KB\n"
     ]
    }
   ],
   "source": [
    "data.info()"
   ]
  },
  {
   "cell_type": "markdown",
   "id": "6817d953-02a3-43f5-862a-7ae8fe496668",
   "metadata": {},
   "source": [
    "## Checking for missing values"
   ]
  },
  {
   "cell_type": "code",
   "execution_count": 11,
   "id": "99e9679c-6176-4611-9b98-fd382e7298c7",
   "metadata": {},
   "outputs": [
    {
     "data": {
      "text/plain": [
       "Id           0\n",
       "Area         0\n",
       "Bedrooms     0\n",
       "Bathrooms    0\n",
       "Floors       0\n",
       "YearBuilt    0\n",
       "Location     0\n",
       "Condition    0\n",
       "Garage       0\n",
       "Price        0\n",
       "dtype: int64"
      ]
     },
     "execution_count": 11,
     "metadata": {},
     "output_type": "execute_result"
    }
   ],
   "source": [
    "data.isnull().sum()"
   ]
  },
  {
   "cell_type": "markdown",
   "id": "5805b204-fc0c-449f-843e-7bf18cab47f7",
   "metadata": {},
   "source": [
    "### No Missing Values"
   ]
  },
  {
   "cell_type": "markdown",
   "id": "3cbabd1f-262b-42ac-b85f-02d2de77a357",
   "metadata": {},
   "source": [
    "## Data Visualisation"
   ]
  },
  {
   "cell_type": "code",
   "execution_count": 22,
   "id": "d45773c2-0129-4fb5-9963-17c648259e10",
   "metadata": {},
   "outputs": [
    {
     "name": "stdout",
     "output_type": "stream",
     "text": [
      "<class 'pandas.core.frame.DataFrame'>\n",
      "RangeIndex: 2000 entries, 0 to 1999\n",
      "Data columns (total 10 columns):\n",
      " #   Column     Non-Null Count  Dtype \n",
      "---  ------     --------------  ----- \n",
      " 0   Id         2000 non-null   int64 \n",
      " 1   Area       2000 non-null   int64 \n",
      " 2   Bedrooms   2000 non-null   int64 \n",
      " 3   Bathrooms  2000 non-null   int64 \n",
      " 4   Floors     2000 non-null   int64 \n",
      " 5   YearBuilt  2000 non-null   int64 \n",
      " 6   Location   2000 non-null   object\n",
      " 7   Condition  2000 non-null   object\n",
      " 8   Garage     2000 non-null   object\n",
      " 9   Price      2000 non-null   int64 \n",
      "dtypes: int64(7), object(3)\n",
      "memory usage: 156.4+ KB\n"
     ]
    }
   ],
   "source": [
    "data.info()"
   ]
  },
  {
   "cell_type": "code",
   "execution_count": 24,
   "id": "0d904257-95a8-4683-b52d-c9e8f9ec4eb4",
   "metadata": {},
   "outputs": [
    {
     "data": {
      "text/html": [
       "<div>\n",
       "<style scoped>\n",
       "    .dataframe tbody tr th:only-of-type {\n",
       "        vertical-align: middle;\n",
       "    }\n",
       "\n",
       "    .dataframe tbody tr th {\n",
       "        vertical-align: top;\n",
       "    }\n",
       "\n",
       "    .dataframe thead th {\n",
       "        text-align: right;\n",
       "    }\n",
       "</style>\n",
       "<table border=\"1\" class=\"dataframe\">\n",
       "  <thead>\n",
       "    <tr style=\"text-align: right;\">\n",
       "      <th></th>\n",
       "      <th>Id</th>\n",
       "      <th>Area</th>\n",
       "      <th>Bedrooms</th>\n",
       "      <th>Bathrooms</th>\n",
       "      <th>Floors</th>\n",
       "      <th>YearBuilt</th>\n",
       "      <th>Price</th>\n",
       "    </tr>\n",
       "  </thead>\n",
       "  <tbody>\n",
       "    <tr>\n",
       "      <th>count</th>\n",
       "      <td>2000.000000</td>\n",
       "      <td>2000.000000</td>\n",
       "      <td>2000.000000</td>\n",
       "      <td>2000.00000</td>\n",
       "      <td>2000.000000</td>\n",
       "      <td>2000.000000</td>\n",
       "      <td>2000.000000</td>\n",
       "    </tr>\n",
       "    <tr>\n",
       "      <th>mean</th>\n",
       "      <td>1000.500000</td>\n",
       "      <td>2786.209500</td>\n",
       "      <td>3.003500</td>\n",
       "      <td>2.55250</td>\n",
       "      <td>1.993500</td>\n",
       "      <td>1961.446000</td>\n",
       "      <td>537676.855000</td>\n",
       "    </tr>\n",
       "    <tr>\n",
       "      <th>std</th>\n",
       "      <td>577.494589</td>\n",
       "      <td>1295.146799</td>\n",
       "      <td>1.424606</td>\n",
       "      <td>1.10899</td>\n",
       "      <td>0.809188</td>\n",
       "      <td>35.926695</td>\n",
       "      <td>276428.845719</td>\n",
       "    </tr>\n",
       "    <tr>\n",
       "      <th>min</th>\n",
       "      <td>1.000000</td>\n",
       "      <td>501.000000</td>\n",
       "      <td>1.000000</td>\n",
       "      <td>1.00000</td>\n",
       "      <td>1.000000</td>\n",
       "      <td>1900.000000</td>\n",
       "      <td>50005.000000</td>\n",
       "    </tr>\n",
       "    <tr>\n",
       "      <th>25%</th>\n",
       "      <td>500.750000</td>\n",
       "      <td>1653.000000</td>\n",
       "      <td>2.000000</td>\n",
       "      <td>2.00000</td>\n",
       "      <td>1.000000</td>\n",
       "      <td>1930.000000</td>\n",
       "      <td>300098.000000</td>\n",
       "    </tr>\n",
       "    <tr>\n",
       "      <th>50%</th>\n",
       "      <td>1000.500000</td>\n",
       "      <td>2833.000000</td>\n",
       "      <td>3.000000</td>\n",
       "      <td>3.00000</td>\n",
       "      <td>2.000000</td>\n",
       "      <td>1961.000000</td>\n",
       "      <td>539254.000000</td>\n",
       "    </tr>\n",
       "    <tr>\n",
       "      <th>75%</th>\n",
       "      <td>1500.250000</td>\n",
       "      <td>3887.500000</td>\n",
       "      <td>4.000000</td>\n",
       "      <td>4.00000</td>\n",
       "      <td>3.000000</td>\n",
       "      <td>1993.000000</td>\n",
       "      <td>780086.000000</td>\n",
       "    </tr>\n",
       "    <tr>\n",
       "      <th>max</th>\n",
       "      <td>2000.000000</td>\n",
       "      <td>4999.000000</td>\n",
       "      <td>5.000000</td>\n",
       "      <td>4.00000</td>\n",
       "      <td>3.000000</td>\n",
       "      <td>2023.000000</td>\n",
       "      <td>999656.000000</td>\n",
       "    </tr>\n",
       "  </tbody>\n",
       "</table>\n",
       "</div>"
      ],
      "text/plain": [
       "                Id         Area     Bedrooms   Bathrooms       Floors  \\\n",
       "count  2000.000000  2000.000000  2000.000000  2000.00000  2000.000000   \n",
       "mean   1000.500000  2786.209500     3.003500     2.55250     1.993500   \n",
       "std     577.494589  1295.146799     1.424606     1.10899     0.809188   \n",
       "min       1.000000   501.000000     1.000000     1.00000     1.000000   \n",
       "25%     500.750000  1653.000000     2.000000     2.00000     1.000000   \n",
       "50%    1000.500000  2833.000000     3.000000     3.00000     2.000000   \n",
       "75%    1500.250000  3887.500000     4.000000     4.00000     3.000000   \n",
       "max    2000.000000  4999.000000     5.000000     4.00000     3.000000   \n",
       "\n",
       "         YearBuilt          Price  \n",
       "count  2000.000000    2000.000000  \n",
       "mean   1961.446000  537676.855000  \n",
       "std      35.926695  276428.845719  \n",
       "min    1900.000000   50005.000000  \n",
       "25%    1930.000000  300098.000000  \n",
       "50%    1961.000000  539254.000000  \n",
       "75%    1993.000000  780086.000000  \n",
       "max    2023.000000  999656.000000  "
      ]
     },
     "execution_count": 24,
     "metadata": {},
     "output_type": "execute_result"
    }
   ],
   "source": [
    "data.describe()"
   ]
  },
  {
   "cell_type": "markdown",
   "id": "da09d1f1-8d6d-4994-af9e-cc5f45a9204b",
   "metadata": {},
   "source": [
    "### Count Plot for Location"
   ]
  },
  {
   "cell_type": "code",
   "execution_count": 29,
   "id": "da711f90-970b-468f-a592-671f8f2cb12e",
   "metadata": {},
   "outputs": [
    {
     "data": {
      "text/plain": [
       "Location\n",
       "Downtown    558\n",
       "Urban       485\n",
       "Suburban    483\n",
       "Rural       474\n",
       "Name: count, dtype: int64"
      ]
     },
     "execution_count": 29,
     "metadata": {},
     "output_type": "execute_result"
    }
   ],
   "source": [
    "data['Location'].value_counts()"
   ]
  },
  {
   "cell_type": "code",
   "execution_count": 31,
   "id": "f4972835-61b7-4d59-a077-dfde69a179e5",
   "metadata": {},
   "outputs": [
    {
     "data": {
      "image/png": "[encoded data removed]",
      "text/plain": [
       "<Figure size 640x480 with 1 Axes>"
      ]
     },
     "metadata": {},
     "output_type": "display_data"
    }
   ],
   "source": [
    "sns.countplot(x=\"Location\", data=data)\n",
    "plt.title(\"Prediction by Location\")\n",
    "plt.show()"
   ]
  },
  {
   "cell_type": "markdown",
   "id": "b0293784-4249-4607-91ae-56e2aa911532",
   "metadata": {},
   "source": [
    "#### Locations which are in *downtown* are more.\n",
    "#### *Suburban and Urban* have almost equal number of houses.\n",
    "#### *Rural* locations have lower houses."
   ]
  },
  {
   "cell_type": "markdown",
   "id": "4929f8f0-f344-42bf-808f-ea9dbe58945f",
   "metadata": {},
   "source": [
    "### Count Plot for Condition"
   ]
  },
  {
   "cell_type": "code",
   "execution_count": 34,
   "id": "6f38ca19-3796-4b00-9297-5aaba6eba46e",
   "metadata": {},
   "outputs": [
    {
     "data": {
      "text/plain": [
       "Condition\n",
       "Fair         521\n",
       "Excellent    511\n",
       "Poor         507\n",
       "Good         461\n",
       "Name: count, dtype: int64"
      ]
     },
     "execution_count": 34,
     "metadata": {},
     "output_type": "execute_result"
    }
   ],
   "source": [
    "data['Condition'].value_counts()"
   ]
  },
  {
   "cell_type": "code",
   "execution_count": 36,
   "id": "44aa38dc-7bb9-4d22-bee9-55482b747b32",
   "metadata": {},
   "outputs": [
    {
     "data": {
      "image/png": "[encoded data removed]",
      "text/plain": [
       "<Figure size 640x480 with 1 Axes>"
      ]
     },
     "metadata": {},
     "output_type": "display_data"
    }
   ],
   "source": [
    "sns.countplot(x=\"Condition\",data=data)\n",
    "plt.title(\"Prediction by Condition\")\n",
    "plt.show()"
   ]
  },
  {
   "cell_type": "markdown",
   "id": "4610cb46-c84f-4e25-9095-92a838eeaf99",
   "metadata": {},
   "source": [
    "#### *Fair* condition houses are higher.\n",
    "#### *Excellent* and *Poor* have equal number of houses\n",
    "#### *Good* house are less"
   ]
  },
  {
   "cell_type": "markdown",
   "id": "8935dd8b-cee0-4a5a-947f-f3e2e89bbc88",
   "metadata": {},
   "source": [
    "### Count Plot for Garage"
   ]
  },
  {
   "cell_type": "code",
   "execution_count": 43,
   "id": "b5233dad-f093-4981-b813-a504df169f2f",
   "metadata": {},
   "outputs": [
    {
     "data": {
      "text/plain": [
       "Garage\n",
       "No     1038\n",
       "Yes     962\n",
       "Name: count, dtype: int64"
      ]
     },
     "execution_count": 43,
     "metadata": {},
     "output_type": "execute_result"
    }
   ],
   "source": [
    "data['Garage'].value_counts()"
   ]
  },
  {
   "cell_type": "code",
   "execution_count": 47,
   "id": "e15ba69d-c5e9-4a3f-8b55-60977dbb8ef8",
   "metadata": {},
   "outputs": [
    {
     "data": {
      "image/png": "[encoded data removed]",
      "text/plain": [
       "<Figure size 640x480 with 1 Axes>"
      ]
     },
     "metadata": {},
     "output_type": "display_data"
    }
   ],
   "source": [
    "sns.countplot(x=\"Garage\", data=data)\n",
    "plt.title(\"Prediction by Garage\")\n",
    "plt.show()"
   ]
  },
  {
   "cell_type": "markdown",
   "id": "9274ea86-6a04-481f-aa69-c70d33be5490",
   "metadata": {},
   "source": [
    "#### Mostly houses have *no garages*."
   ]
  },
  {
   "cell_type": "markdown",
   "id": "e909d806-15e5-462b-89e5-1deec00d9157",
   "metadata": {},
   "source": [
    "### Count Plot for Bedrooms"
   ]
  },
  {
   "cell_type": "code",
   "execution_count": 52,
   "id": "24530a0c-8056-4895-bbbe-24af3564a6d2",
   "metadata": {},
   "outputs": [
    {
     "data": {
      "text/plain": [
       "Bedrooms\n",
       "1    418\n",
       "3    406\n",
       "4    405\n",
       "5    403\n",
       "2    368\n",
       "Name: count, dtype: int64"
      ]
     },
     "execution_count": 52,
     "metadata": {},
     "output_type": "execute_result"
    }
   ],
   "source": [
    "data['Bedrooms'].value_counts()"
   ]
  },
  {
   "cell_type": "code",
   "execution_count": 54,
   "id": "b1b0070e-68d2-4a0f-9309-a105b7d75163",
   "metadata": {},
   "outputs": [
    {
     "data": {
      "image/png": "[encoded data removed]",
      "text/plain": [
       "<Figure size 640x480 with 1 Axes>"
      ]
     },
     "metadata": {},
     "output_type": "display_data"
    }
   ],
   "source": [
    "sns.countplot(x=\"Bedrooms\",data=data)\n",
    "plt.title(\"Prediction by Bedrooms\")\n",
    "plt.show()"
   ]
  },
  {
   "cell_type": "markdown",
   "id": "d1038e34-92ea-4608-b4be-003b42731f06",
   "metadata": {},
   "source": [
    "#### *1 bedrooms* are more.\n",
    "#### *3, 4 and 5 bedrooms* are equal.\n",
    "#### House with *2 bedrooms* are less."
   ]
  },
  {
   "cell_type": "markdown",
   "id": "a6742610-c6e5-48ef-8122-945bcd5e7e22",
   "metadata": {},
   "source": [
    "### Count Plot for Bathrooms"
   ]
  },
  {
   "cell_type": "code",
   "execution_count": 58,
   "id": "6abee2f8-b5bc-4bae-bd6b-04a4913801cd",
   "metadata": {},
   "outputs": [
    {
     "data": {
      "text/plain": [
       "Bathrooms\n",
       "3    524\n",
       "4    521\n",
       "2    494\n",
       "1    461\n",
       "Name: count, dtype: int64"
      ]
     },
     "execution_count": 58,
     "metadata": {},
     "output_type": "execute_result"
    }
   ],
   "source": [
    "data['Bathrooms'].value_counts()"
   ]
  },
  {
   "cell_type": "code",
   "execution_count": 63,
   "id": "fc5bd9fc-da64-4837-82bb-c34b9bc71430",
   "metadata": {},
   "outputs": [
    {
     "data": {
      "image/png": "[encoded data removed]",
      "text/plain": [
       "<Figure size 640x480 with 1 Axes>"
      ]
     },
     "metadata": {},
     "output_type": "display_data"
    }
   ],
   "source": [
    "sns.countplot(x=\"Bathrooms\", data=data)\n",
    "plt.title(\"Prediction by Bathroom\")\n",
    "plt.show()"
   ]
  },
  {
   "cell_type": "markdown",
   "id": "4b60d11a-2efb-469c-8930-a7af3f177fe5",
   "metadata": {},
   "source": [
    "#### Houses having *3 and 4 bathrooms* are more.\n",
    "#### House having only *2 and 1 bathrooms* are less."
   ]
  },
  {
   "cell_type": "markdown",
   "id": "3884f942-8f69-46e6-9da8-7117d071de3c",
   "metadata": {},
   "source": [
    "### Count Plot for Floors"
   ]
  },
  {
   "cell_type": "code",
   "execution_count": 67,
   "id": "b82a25c5-36c2-463b-8973-399518da3c9e",
   "metadata": {},
   "outputs": [
    {
     "data": {
      "text/plain": [
       "Floors\n",
       "2    691\n",
       "1    661\n",
       "3    648\n",
       "Name: count, dtype: int64"
      ]
     },
     "execution_count": 67,
     "metadata": {},
     "output_type": "execute_result"
    }
   ],
   "source": [
    "data['Floors'].value_counts()"
   ]
  },
  {
   "cell_type": "code",
   "execution_count": 69,
   "id": "0c945ea1-730e-423b-a4a3-9e58219d568f",
   "metadata": {},
   "outputs": [
    {
     "data": {
      "image/png": "[encoded data removed]",
      "text/plain": [
       "<Figure size 640x480 with 1 Axes>"
      ]
     },
     "metadata": {},
     "output_type": "display_data"
    }
   ],
   "source": [
    "sns.countplot(x=\"Floors\", data=data)\n",
    "plt.title(\"Prediction by Floors\")\n",
    "plt.show()"
   ]
  },
  {
   "cell_type": "markdown",
   "id": "3f1d3dc3-9180-42c0-a714-f88d8a39ea05",
   "metadata": {},
   "source": [
    "#### Houses with *2 floors* are more.\n",
    "#### Houses with *1 floors* are more than 3 floors.\n",
    "#### Houses with *3 floors* are less."
   ]
  },
  {
   "cell_type": "code",
   "execution_count": 86,
   "id": "89171ee1-0bdf-4e07-83a3-7c3177e3d288",
   "metadata": {},
   "outputs": [],
   "source": [
    "data.drop(columns=['Id'],inplace=True)"
   ]
  },
  {
   "cell_type": "code",
   "execution_count": 88,
   "id": "7f6e289f-0d2d-4940-9cda-e98b9fb5e36f",
   "metadata": {},
   "outputs": [
    {
     "data": {
      "text/html": [
       "<div>\n",
       "<style scoped>\n",
       "    .dataframe tbody tr th:only-of-type {\n",
       "        vertical-align: middle;\n",
       "    }\n",
       "\n",
       "    .dataframe tbody tr th {\n",
       "        vertical-align: top;\n",
       "    }\n",
       "\n",
       "    .dataframe thead th {\n",
       "        text-align: right;\n",
       "    }\n",
       "</style>\n",
       "<table border=\"1\" class=\"dataframe\">\n",
       "  <thead>\n",
       "    <tr style=\"text-align: right;\">\n",
       "      <th></th>\n",
       "      <th>Area</th>\n",
       "      <th>Bedrooms</th>\n",
       "      <th>Bathrooms</th>\n",
       "      <th>Floors</th>\n",
       "      <th>YearBuilt</th>\n",
       "      <th>Location</th>\n",
       "      <th>Condition</th>\n",
       "      <th>Garage</th>\n",
       "      <th>Price</th>\n",
       "    </tr>\n",
       "  </thead>\n",
       "  <tbody>\n",
       "    <tr>\n",
       "      <th>0</th>\n",
       "      <td>1360</td>\n",
       "      <td>5</td>\n",
       "      <td>4</td>\n",
       "      <td>3</td>\n",
       "      <td>1970</td>\n",
       "      <td>Downtown</td>\n",
       "      <td>Excellent</td>\n",
       "      <td>No</td>\n",
       "      <td>149919</td>\n",
       "    </tr>\n",
       "    <tr>\n",
       "      <th>1</th>\n",
       "      <td>4272</td>\n",
       "      <td>5</td>\n",
       "      <td>4</td>\n",
       "      <td>3</td>\n",
       "      <td>1958</td>\n",
       "      <td>Downtown</td>\n",
       "      <td>Excellent</td>\n",
       "      <td>No</td>\n",
       "      <td>424998</td>\n",
       "    </tr>\n",
       "    <tr>\n",
       "      <th>2</th>\n",
       "      <td>3592</td>\n",
       "      <td>2</td>\n",
       "      <td>2</td>\n",
       "      <td>3</td>\n",
       "      <td>1938</td>\n",
       "      <td>Downtown</td>\n",
       "      <td>Good</td>\n",
       "      <td>No</td>\n",
       "      <td>266746</td>\n",
       "    </tr>\n",
       "    <tr>\n",
       "      <th>3</th>\n",
       "      <td>966</td>\n",
       "      <td>4</td>\n",
       "      <td>2</td>\n",
       "      <td>2</td>\n",
       "      <td>1902</td>\n",
       "      <td>Suburban</td>\n",
       "      <td>Fair</td>\n",
       "      <td>Yes</td>\n",
       "      <td>244020</td>\n",
       "    </tr>\n",
       "    <tr>\n",
       "      <th>4</th>\n",
       "      <td>4926</td>\n",
       "      <td>1</td>\n",
       "      <td>4</td>\n",
       "      <td>2</td>\n",
       "      <td>1975</td>\n",
       "      <td>Downtown</td>\n",
       "      <td>Fair</td>\n",
       "      <td>Yes</td>\n",
       "      <td>636056</td>\n",
       "    </tr>\n",
       "  </tbody>\n",
       "</table>\n",
       "</div>"
      ],
      "text/plain": [
       "   Area  Bedrooms  Bathrooms  Floors  YearBuilt  Location  Condition Garage  \\\n",
       "0  1360         5          4       3       1970  Downtown  Excellent     No   \n",
       "1  4272         5          4       3       1958  Downtown  Excellent     No   \n",
       "2  3592         2          2       3       1938  Downtown       Good     No   \n",
       "3   966         4          2       2       1902  Suburban       Fair    Yes   \n",
       "4  4926         1          4       2       1975  Downtown       Fair    Yes   \n",
       "\n",
       "    Price  \n",
       "0  149919  \n",
       "1  424998  \n",
       "2  266746  \n",
       "3  244020  \n",
       "4  636056  "
      ]
     },
     "execution_count": 88,
     "metadata": {},
     "output_type": "execute_result"
    }
   ],
   "source": [
    "data.head()"
   ]
  },
  {
   "cell_type": "markdown",
   "id": "e2348cd9-377a-4f7a-96ea-05ba27ce2dbe",
   "metadata": {},
   "source": [
    "### Converting Categorical Data into Numeric Values"
   ]
  },
  {
   "cell_type": "code",
   "execution_count": 95,
   "id": "3a3b4b63-594b-42f2-b487-3c1e28759d61",
   "metadata": {},
   "outputs": [],
   "source": [
    "from sklearn.preprocessing import LabelEncoder"
   ]
  },
  {
   "cell_type": "code",
   "execution_count": 99,
   "id": "cee45724-02d8-4fb6-821b-6bfb791fc1e5",
   "metadata": {},
   "outputs": [],
   "source": [
    "loc =  LabelEncoder()\n",
    "data[\"Location\"] = loc.fit_transform(data[\"Location\"])"
   ]
  },
  {
   "cell_type": "code",
   "execution_count": 105,
   "id": "fc47f5c0-4823-4dda-b3ee-0f95164fb22b",
   "metadata": {},
   "outputs": [],
   "source": [
    "cond =  LabelEncoder()\n",
    "data[\"Condition\"] = cond.fit_transform(data[\"Condition\"])"
   ]
  },
  {
   "cell_type": "code",
   "execution_count": 109,
   "id": "f84dcdd7-76bd-481f-93bc-e34f428ec378",
   "metadata": {},
   "outputs": [],
   "source": [
    "gar =  LabelEncoder()\n",
    "data[\"Garage\"] = gar.fit_transform(data[\"Garage\"])"
   ]
  },
  {
   "cell_type": "markdown",
   "id": "69bd7141-0846-4ab7-986e-17d25e16b3e6",
   "metadata": {},
   "source": [
    "### Training the data"
   ]
  },
  {
   "cell_type": "code",
   "execution_count": 112,
   "id": "6cffb8cf-0c42-4311-baf3-474f0a9b55db",
   "metadata": {},
   "outputs": [],
   "source": [
    "from sklearn.model_selection import train_test_split\n",
    "from sklearn.preprocessing import StandardScaler"
   ]
  },
  {
   "cell_type": "code",
   "execution_count": 114,
   "id": "dc0954e7-622f-419b-adbd-340f1d4718b9",
   "metadata": {},
   "outputs": [],
   "source": [
    "# feature set\n",
    "x=data.drop(columns=['Price'])\n",
    "# target set\n",
    "y=data['Price']"
   ]
  },
  {
   "cell_type": "code",
   "execution_count": 116,
   "id": "193c92bf-8820-4b5e-8659-c054f8bfda9a",
   "metadata": {},
   "outputs": [
    {
     "data": {
      "text/html": [
       "<div>\n",
       "<style scoped>\n",
       "    .dataframe tbody tr th:only-of-type {\n",
       "        vertical-align: middle;\n",
       "    }\n",
       "\n",
       "    .dataframe tbody tr th {\n",
       "        vertical-align: top;\n",
       "    }\n",
       "\n",
       "    .dataframe thead th {\n",
       "        text-align: right;\n",
       "    }\n",
       "</style>\n",
       "<table border=\"1\" class=\"dataframe\">\n",
       "  <thead>\n",
       "    <tr style=\"text-align: right;\">\n",
       "      <th></th>\n",
       "      <th>Area</th>\n",
       "      <th>Bedrooms</th>\n",
       "      <th>Bathrooms</th>\n",
       "      <th>Floors</th>\n",
       "      <th>YearBuilt</th>\n",
       "      <th>Location</th>\n",
       "      <th>Condition</th>\n",
       "      <th>Garage</th>\n",
       "    </tr>\n",
       "  </thead>\n",
       "  <tbody>\n",
       "    <tr>\n",
       "      <th>0</th>\n",
       "      <td>1360</td>\n",
       "      <td>5</td>\n",
       "      <td>4</td>\n",
       "      <td>3</td>\n",
       "      <td>1970</td>\n",
       "      <td>0</td>\n",
       "      <td>0</td>\n",
       "      <td>0</td>\n",
       "    </tr>\n",
       "    <tr>\n",
       "      <th>1</th>\n",
       "      <td>4272</td>\n",
       "      <td>5</td>\n",
       "      <td>4</td>\n",
       "      <td>3</td>\n",
       "      <td>1958</td>\n",
       "      <td>0</td>\n",
       "      <td>0</td>\n",
       "      <td>0</td>\n",
       "    </tr>\n",
       "    <tr>\n",
       "      <th>2</th>\n",
       "      <td>3592</td>\n",
       "      <td>2</td>\n",
       "      <td>2</td>\n",
       "      <td>3</td>\n",
       "      <td>1938</td>\n",
       "      <td>0</td>\n",
       "      <td>2</td>\n",
       "      <td>0</td>\n",
       "    </tr>\n",
       "    <tr>\n",
       "      <th>3</th>\n",
       "      <td>966</td>\n",
       "      <td>4</td>\n",
       "      <td>2</td>\n",
       "      <td>2</td>\n",
       "      <td>1902</td>\n",
       "      <td>2</td>\n",
       "      <td>1</td>\n",
       "      <td>1</td>\n",
       "    </tr>\n",
       "    <tr>\n",
       "      <th>4</th>\n",
       "      <td>4926</td>\n",
       "      <td>1</td>\n",
       "      <td>4</td>\n",
       "      <td>2</td>\n",
       "      <td>1975</td>\n",
       "      <td>0</td>\n",
       "      <td>1</td>\n",
       "      <td>1</td>\n",
       "    </tr>\n",
       "    <tr>\n",
       "      <th>...</th>\n",
       "      <td>...</td>\n",
       "      <td>...</td>\n",
       "      <td>...</td>\n",
       "      <td>...</td>\n",
       "      <td>...</td>\n",
       "      <td>...</td>\n",
       "      <td>...</td>\n",
       "      <td>...</td>\n",
       "    </tr>\n",
       "    <tr>\n",
       "      <th>1995</th>\n",
       "      <td>4994</td>\n",
       "      <td>5</td>\n",
       "      <td>4</td>\n",
       "      <td>3</td>\n",
       "      <td>1923</td>\n",
       "      <td>2</td>\n",
       "      <td>3</td>\n",
       "      <td>0</td>\n",
       "    </tr>\n",
       "    <tr>\n",
       "      <th>1996</th>\n",
       "      <td>3046</td>\n",
       "      <td>5</td>\n",
       "      <td>2</td>\n",
       "      <td>1</td>\n",
       "      <td>2019</td>\n",
       "      <td>2</td>\n",
       "      <td>3</td>\n",
       "      <td>1</td>\n",
       "    </tr>\n",
       "    <tr>\n",
       "      <th>1997</th>\n",
       "      <td>1062</td>\n",
       "      <td>5</td>\n",
       "      <td>1</td>\n",
       "      <td>2</td>\n",
       "      <td>1903</td>\n",
       "      <td>1</td>\n",
       "      <td>3</td>\n",
       "      <td>0</td>\n",
       "    </tr>\n",
       "    <tr>\n",
       "      <th>1998</th>\n",
       "      <td>4062</td>\n",
       "      <td>3</td>\n",
       "      <td>1</td>\n",
       "      <td>2</td>\n",
       "      <td>1936</td>\n",
       "      <td>3</td>\n",
       "      <td>0</td>\n",
       "      <td>1</td>\n",
       "    </tr>\n",
       "    <tr>\n",
       "      <th>1999</th>\n",
       "      <td>2989</td>\n",
       "      <td>5</td>\n",
       "      <td>1</td>\n",
       "      <td>3</td>\n",
       "      <td>1903</td>\n",
       "      <td>2</td>\n",
       "      <td>1</td>\n",
       "      <td>0</td>\n",
       "    </tr>\n",
       "  </tbody>\n",
       "</table>\n",
       "<p>2000 rows × 8 columns</p>\n",
       "</div>"
      ],
      "text/plain": [
       "      Area  Bedrooms  Bathrooms  Floors  YearBuilt  Location  Condition  \\\n",
       "0     1360         5          4       3       1970         0          0   \n",
       "1     4272         5          4       3       1958         0          0   \n",
       "2     3592         2          2       3       1938         0          2   \n",
       "3      966         4          2       2       1902         2          1   \n",
       "4     4926         1          4       2       1975         0          1   \n",
       "...    ...       ...        ...     ...        ...       ...        ...   \n",
       "1995  4994         5          4       3       1923         2          3   \n",
       "1996  3046         5          2       1       2019         2          3   \n",
       "1997  1062         5          1       2       1903         1          3   \n",
       "1998  4062         3          1       2       1936         3          0   \n",
       "1999  2989         5          1       3       1903         2          1   \n",
       "\n",
       "      Garage  \n",
       "0          0  \n",
       "1          0  \n",
       "2          0  \n",
       "3          1  \n",
       "4          1  \n",
       "...      ...  \n",
       "1995       0  \n",
       "1996       1  \n",
       "1997       0  \n",
       "1998       1  \n",
       "1999       0  \n",
       "\n",
       "[2000 rows x 8 columns]"
      ]
     },
     "execution_count": 116,
     "metadata": {},
     "output_type": "execute_result"
    }
   ],
   "source": [
    "x"
   ]
  },
  {
   "cell_type": "code",
   "execution_count": 118,
   "id": "5b3b3549-90f0-4a73-a8df-b462fe44127f",
   "metadata": {},
   "outputs": [
    {
     "data": {
      "text/plain": [
       "0       149919\n",
       "1       424998\n",
       "2       266746\n",
       "3       244020\n",
       "4       636056\n",
       "         ...  \n",
       "1995    295620\n",
       "1996    580929\n",
       "1997    476925\n",
       "1998    161119\n",
       "1999    482525\n",
       "Name: Price, Length: 2000, dtype: int64"
      ]
     },
     "execution_count": 118,
     "metadata": {},
     "output_type": "execute_result"
    }
   ],
   "source": [
    "y"
   ]
  },
  {
   "cell_type": "code",
   "execution_count": 122,
   "id": "94eb02ac-9268-4b58-8349-a12717d9f744",
   "metadata": {},
   "outputs": [],
   "source": [
    "scaler=StandardScaler()\n",
    "x=scaler.fit_transform(data)"
   ]
  },
  {
   "cell_type": "code",
   "execution_count": 126,
   "id": "72f25ba2-2c0f-47d0-8b8d-6560266cd3da",
   "metadata": {},
   "outputs": [],
   "source": [
    "x=pd.DataFrame(x,columns=data.columns)"
   ]
  },
  {
   "cell_type": "code",
   "execution_count": 128,
   "id": "7acd60a6-b3ba-4f4e-b6df-67077d66c739",
   "metadata": {},
   "outputs": [
    {
     "data": {
      "text/html": [
       "<div>\n",
       "<style scoped>\n",
       "    .dataframe tbody tr th:only-of-type {\n",
       "        vertical-align: middle;\n",
       "    }\n",
       "\n",
       "    .dataframe tbody tr th {\n",
       "        vertical-align: top;\n",
       "    }\n",
       "\n",
       "    .dataframe thead th {\n",
       "        text-align: right;\n",
       "    }\n",
       "</style>\n",
       "<table border=\"1\" class=\"dataframe\">\n",
       "  <thead>\n",
       "    <tr style=\"text-align: right;\">\n",
       "      <th></th>\n",
       "      <th>Area</th>\n",
       "      <th>Bedrooms</th>\n",
       "      <th>Bathrooms</th>\n",
       "      <th>Floors</th>\n",
       "      <th>YearBuilt</th>\n",
       "      <th>Location</th>\n",
       "      <th>Condition</th>\n",
       "      <th>Garage</th>\n",
       "      <th>Price</th>\n",
       "    </tr>\n",
       "  </thead>\n",
       "  <tbody>\n",
       "    <tr>\n",
       "      <th>0</th>\n",
       "      <td>-1.101471</td>\n",
       "      <td>1.401791</td>\n",
       "      <td>1.305568</td>\n",
       "      <td>1.244151</td>\n",
       "      <td>0.238155</td>\n",
       "      <td>-1.274332</td>\n",
       "      <td>-1.316267</td>\n",
       "      <td>-0.962695</td>\n",
       "      <td>-1.403091</td>\n",
       "    </tr>\n",
       "    <tr>\n",
       "      <th>1</th>\n",
       "      <td>1.147485</td>\n",
       "      <td>1.401791</td>\n",
       "      <td>1.305568</td>\n",
       "      <td>1.244151</td>\n",
       "      <td>-0.095942</td>\n",
       "      <td>-1.274332</td>\n",
       "      <td>-1.316267</td>\n",
       "      <td>-0.962695</td>\n",
       "      <td>-0.407725</td>\n",
       "    </tr>\n",
       "    <tr>\n",
       "      <th>2</th>\n",
       "      <td>0.622317</td>\n",
       "      <td>-0.704581</td>\n",
       "      <td>-0.498326</td>\n",
       "      <td>1.244151</td>\n",
       "      <td>-0.652770</td>\n",
       "      <td>-1.274332</td>\n",
       "      <td>0.460072</td>\n",
       "      <td>-0.962695</td>\n",
       "      <td>-0.980356</td>\n",
       "    </tr>\n",
       "    <tr>\n",
       "      <th>3</th>\n",
       "      <td>-1.405759</td>\n",
       "      <td>0.699667</td>\n",
       "      <td>-0.498326</td>\n",
       "      <td>0.008035</td>\n",
       "      <td>-1.655061</td>\n",
       "      <td>0.486403</td>\n",
       "      <td>-0.428098</td>\n",
       "      <td>1.038750</td>\n",
       "      <td>-1.062589</td>\n",
       "    </tr>\n",
       "    <tr>\n",
       "      <th>4</th>\n",
       "      <td>1.652574</td>\n",
       "      <td>-1.406705</td>\n",
       "      <td>1.305568</td>\n",
       "      <td>0.008035</td>\n",
       "      <td>0.377363</td>\n",
       "      <td>-1.274332</td>\n",
       "      <td>-0.428098</td>\n",
       "      <td>1.038750</td>\n",
       "      <td>0.355982</td>\n",
       "    </tr>\n",
       "  </tbody>\n",
       "</table>\n",
       "</div>"
      ],
      "text/plain": [
       "       Area  Bedrooms  Bathrooms    Floors  YearBuilt  Location  Condition  \\\n",
       "0 -1.101471  1.401791   1.305568  1.244151   0.238155 -1.274332  -1.316267   \n",
       "1  1.147485  1.401791   1.305568  1.244151  -0.095942 -1.274332  -1.316267   \n",
       "2  0.622317 -0.704581  -0.498326  1.244151  -0.652770 -1.274332   0.460072   \n",
       "3 -1.405759  0.699667  -0.498326  0.008035  -1.655061  0.486403  -0.428098   \n",
       "4  1.652574 -1.406705   1.305568  0.008035   0.377363 -1.274332  -0.428098   \n",
       "\n",
       "     Garage     Price  \n",
       "0 -0.962695 -1.403091  \n",
       "1 -0.962695 -0.407725  \n",
       "2 -0.962695 -0.980356  \n",
       "3  1.038750 -1.062589  \n",
       "4  1.038750  0.355982  "
      ]
     },
     "execution_count": 128,
     "metadata": {},
     "output_type": "execute_result"
    }
   ],
   "source": [
    "x.head()"
   ]
  },
  {
   "cell_type": "code",
   "execution_count": 130,
   "id": "d26e0789-c372-4936-a39e-f2578e3afdeb",
   "metadata": {},
   "outputs": [
    {
     "data": {
      "image/png": "[encoded data removed]",
      "text/plain": [
       "<Figure size 1000x800 with 2 Axes>"
      ]
     },
     "metadata": {},
     "output_type": "display_data"
    }
   ],
   "source": [
    "plt.figure(figsize = (10,8))\n",
    "sns.heatmap(data=data.corr(),annot=True)\n",
    "plt.show()"
   ]
  },
  {
   "cell_type": "code",
   "execution_count": 132,
   "id": "4a2e3719-2571-488d-84ff-c423034d601c",
   "metadata": {},
   "outputs": [
    {
     "name": "stdout",
     "output_type": "stream",
     "text": [
      "Shape of x: (2000, 9)\n",
      "Shape of y: (2000,)\n"
     ]
    }
   ],
   "source": [
    "print(f\"Shape of x: {x.shape}\")\n",
    "print(f\"Shape of y: {y.shape}\")"
   ]
  },
  {
   "cell_type": "markdown",
   "id": "b3a8c729-a14c-4dbb-915d-f07f87780f4a",
   "metadata": {},
   "source": [
    "### Model Selection"
   ]
  },
  {
   "cell_type": "code",
   "execution_count": 137,
   "id": "b91897b0-95a5-41e9-b30f-7b479ce3b5f3",
   "metadata": {},
   "outputs": [],
   "source": [
    "# Importing necessary libraries\n",
    "from sklearn.linear_model import LinearRegression,Lasso, Ridge,ElasticNet\n",
    "from sklearn.tree import DecisionTreeRegressor\n",
    "from sklearn.svm import SVR\n",
    "from sklearn.neighbors import KNeighborsRegressor\n",
    "from sklearn.ensemble import RandomForestRegressor\n",
    "from sklearn.metrics import mean_squared_error , mean_absolute_error"
   ]
  },
  {
   "cell_type": "code",
   "execution_count": 139,
   "id": "ecb8c088-13b1-4ce5-8933-306fb823af00",
   "metadata": {},
   "outputs": [],
   "source": [
    "x_train,x_test,y_train,y_test = train_test_split(x,y,test_size = 0.2,random_state=0)"
   ]
  },
  {
   "cell_type": "code",
   "execution_count": 141,
   "id": "445a581c-8536-4487-9812-efe473f28ab5",
   "metadata": {},
   "outputs": [
    {
     "data": {
      "text/plain": [
       "(99.9999999987408, 99.9999999987434)"
      ]
     },
     "execution_count": 141,
     "metadata": {},
     "output_type": "execute_result"
    }
   ],
   "source": [
    "Lasso_test = Lasso ()\n",
    "Lasso_test.fit(x_train,y_train)\n",
    "Lasso_test.score(x_test,y_test)*100 ,Lasso_test.score(x_train,y_train)*100"
   ]
  },
  {
   "cell_type": "code",
   "execution_count": 143,
   "id": "3d64d4ca-f0a9-41ca-933e-aed5733ee554",
   "metadata": {},
   "outputs": [
    {
     "data": {
      "text/plain": [
       "(0.8803611265980862, 0.799344757390354)"
      ]
     },
     "execution_count": 143,
     "metadata": {},
     "output_type": "execute_result"
    }
   ],
   "source": [
    "mean_squared_error(y_test ,Lasso_test.predict(x_test)),mean_absolute_error(y_test ,Lasso_test.predict(x_test))"
   ]
  },
  {
   "cell_type": "code",
   "execution_count": 145,
   "id": "430e2f5e-2a90-4fdf-a81b-69133ec6542d",
   "metadata": {},
   "outputs": [
    {
     "data": {
      "text/html": [
       "<div>\n",
       "<style scoped>\n",
       "    .dataframe tbody tr th:only-of-type {\n",
       "        vertical-align: middle;\n",
       "    }\n",
       "\n",
       "    .dataframe tbody tr th {\n",
       "        vertical-align: top;\n",
       "    }\n",
       "\n",
       "    .dataframe thead th {\n",
       "        text-align: right;\n",
       "    }\n",
       "</style>\n",
       "<table border=\"1\" class=\"dataframe\">\n",
       "  <thead>\n",
       "    <tr style=\"text-align: right;\">\n",
       "      <th></th>\n",
       "      <th>Area</th>\n",
       "      <th>Bedrooms</th>\n",
       "      <th>Bathrooms</th>\n",
       "      <th>Floors</th>\n",
       "      <th>YearBuilt</th>\n",
       "      <th>Location</th>\n",
       "      <th>Condition</th>\n",
       "      <th>Garage</th>\n",
       "      <th>Price</th>\n",
       "    </tr>\n",
       "  </thead>\n",
       "  <tbody>\n",
       "    <tr>\n",
       "      <th>405</th>\n",
       "      <td>-1.677611</td>\n",
       "      <td>-0.704581</td>\n",
       "      <td>-1.400273</td>\n",
       "      <td>1.244151</td>\n",
       "      <td>-0.123783</td>\n",
       "      <td>0.486403</td>\n",
       "      <td>0.460072</td>\n",
       "      <td>-0.962695</td>\n",
       "      <td>1.534157</td>\n",
       "    </tr>\n",
       "    <tr>\n",
       "      <th>1190</th>\n",
       "      <td>-0.322986</td>\n",
       "      <td>-1.406705</td>\n",
       "      <td>-1.400273</td>\n",
       "      <td>0.008035</td>\n",
       "      <td>0.405204</td>\n",
       "      <td>-0.393965</td>\n",
       "      <td>0.460072</td>\n",
       "      <td>1.038750</td>\n",
       "      <td>-1.398832</td>\n",
       "    </tr>\n",
       "    <tr>\n",
       "      <th>1132</th>\n",
       "      <td>1.678060</td>\n",
       "      <td>-1.406705</td>\n",
       "      <td>-1.400273</td>\n",
       "      <td>0.008035</td>\n",
       "      <td>-1.265281</td>\n",
       "      <td>0.486403</td>\n",
       "      <td>0.460072</td>\n",
       "      <td>1.038750</td>\n",
       "      <td>-1.664764</td>\n",
       "    </tr>\n",
       "    <tr>\n",
       "      <th>731</th>\n",
       "      <td>0.495659</td>\n",
       "      <td>-0.002457</td>\n",
       "      <td>0.403621</td>\n",
       "      <td>0.008035</td>\n",
       "      <td>-0.541404</td>\n",
       "      <td>-1.274332</td>\n",
       "      <td>0.460072</td>\n",
       "      <td>-0.962695</td>\n",
       "      <td>0.493640</td>\n",
       "    </tr>\n",
       "    <tr>\n",
       "      <th>1754</th>\n",
       "      <td>0.270918</td>\n",
       "      <td>-0.704581</td>\n",
       "      <td>-1.400273</td>\n",
       "      <td>1.244151</td>\n",
       "      <td>0.210314</td>\n",
       "      <td>-0.393965</td>\n",
       "      <td>0.460072</td>\n",
       "      <td>1.038750</td>\n",
       "      <td>-0.420502</td>\n",
       "    </tr>\n",
       "    <tr>\n",
       "      <th>...</th>\n",
       "      <td>...</td>\n",
       "      <td>...</td>\n",
       "      <td>...</td>\n",
       "      <td>...</td>\n",
       "      <td>...</td>\n",
       "      <td>...</td>\n",
       "      <td>...</td>\n",
       "      <td>...</td>\n",
       "      <td>...</td>\n",
       "    </tr>\n",
       "    <tr>\n",
       "      <th>638</th>\n",
       "      <td>-0.308312</td>\n",
       "      <td>0.699667</td>\n",
       "      <td>-0.498326</td>\n",
       "      <td>0.008035</td>\n",
       "      <td>-0.736294</td>\n",
       "      <td>0.486403</td>\n",
       "      <td>1.348241</td>\n",
       "      <td>1.038750</td>\n",
       "      <td>-0.504328</td>\n",
       "    </tr>\n",
       "    <tr>\n",
       "      <th>360</th>\n",
       "      <td>-0.016380</td>\n",
       "      <td>-0.002457</td>\n",
       "      <td>1.305568</td>\n",
       "      <td>-1.228081</td>\n",
       "      <td>0.711460</td>\n",
       "      <td>-0.393965</td>\n",
       "      <td>-1.316267</td>\n",
       "      <td>1.038750</td>\n",
       "      <td>-1.091211</td>\n",
       "    </tr>\n",
       "    <tr>\n",
       "      <th>1810</th>\n",
       "      <td>0.159706</td>\n",
       "      <td>-0.002457</td>\n",
       "      <td>1.305568</td>\n",
       "      <td>1.244151</td>\n",
       "      <td>-0.875501</td>\n",
       "      <td>-1.274332</td>\n",
       "      <td>1.348241</td>\n",
       "      <td>-0.962695</td>\n",
       "      <td>-1.150959</td>\n",
       "    </tr>\n",
       "    <tr>\n",
       "      <th>1743</th>\n",
       "      <td>0.689508</td>\n",
       "      <td>1.401791</td>\n",
       "      <td>-1.400273</td>\n",
       "      <td>1.244151</td>\n",
       "      <td>0.683618</td>\n",
       "      <td>-0.393965</td>\n",
       "      <td>-1.316267</td>\n",
       "      <td>1.038750</td>\n",
       "      <td>-0.671617</td>\n",
       "    </tr>\n",
       "    <tr>\n",
       "      <th>563</th>\n",
       "      <td>-0.071986</td>\n",
       "      <td>0.699667</td>\n",
       "      <td>-0.498326</td>\n",
       "      <td>0.008035</td>\n",
       "      <td>-0.680611</td>\n",
       "      <td>-0.393965</td>\n",
       "      <td>-0.428098</td>\n",
       "      <td>1.038750</td>\n",
       "      <td>-1.318759</td>\n",
       "    </tr>\n",
       "  </tbody>\n",
       "</table>\n",
       "<p>400 rows × 9 columns</p>\n",
       "</div>"
      ],
      "text/plain": [
       "          Area  Bedrooms  Bathrooms    Floors  YearBuilt  Location  Condition  \\\n",
       "405  -1.677611 -0.704581  -1.400273  1.244151  -0.123783  0.486403   0.460072   \n",
       "1190 -0.322986 -1.406705  -1.400273  0.008035   0.405204 -0.393965   0.460072   \n",
       "1132  1.678060 -1.406705  -1.400273  0.008035  -1.265281  0.486403   0.460072   \n",
       "731   0.495659 -0.002457   0.403621  0.008035  -0.541404 -1.274332   0.460072   \n",
       "1754  0.270918 -0.704581  -1.400273  1.244151   0.210314 -0.393965   0.460072   \n",
       "...        ...       ...        ...       ...        ...       ...        ...   \n",
       "638  -0.308312  0.699667  -0.498326  0.008035  -0.736294  0.486403   1.348241   \n",
       "360  -0.016380 -0.002457   1.305568 -1.228081   0.711460 -0.393965  -1.316267   \n",
       "1810  0.159706 -0.002457   1.305568  1.244151  -0.875501 -1.274332   1.348241   \n",
       "1743  0.689508  1.401791  -1.400273  1.244151   0.683618 -0.393965  -1.316267   \n",
       "563  -0.071986  0.699667  -0.498326  0.008035  -0.680611 -0.393965  -0.428098   \n",
       "\n",
       "        Garage     Price  \n",
       "405  -0.962695  1.534157  \n",
       "1190  1.038750 -1.398832  \n",
       "1132  1.038750 -1.664764  \n",
       "731  -0.962695  0.493640  \n",
       "1754  1.038750 -0.420502  \n",
       "...        ...       ...  \n",
       "638   1.038750 -0.504328  \n",
       "360   1.038750 -1.091211  \n",
       "1810 -0.962695 -1.150959  \n",
       "1743  1.038750 -0.671617  \n",
       "563   1.038750 -1.318759  \n",
       "\n",
       "[400 rows x 9 columns]"
      ]
     },
     "execution_count": 145,
     "metadata": {},
     "output_type": "execute_result"
    }
   ],
   "source": [
    "x_test"
   ]
  },
  {
   "cell_type": "markdown",
   "id": "62ba7cba-67e8-46d3-9aba-ce2f5fdb716e",
   "metadata": {},
   "source": [
    "#### Testing Data"
   ]
  },
  {
   "cell_type": "code",
   "execution_count": 148,
   "id": "abb55924-d6a5-4d26-848f-2f18f2e20608",
   "metadata": {},
   "outputs": [
    {
     "name": "stderr",
     "output_type": "stream",
     "text": [
      "C:\\Users\\lavan\\anaconda3\\Lib\\site-packages\\sklearn\\base.py:493: UserWarning: X does not have valid feature names, but Lasso was fitted with feature names\n",
      "  warnings.warn(\n"
     ]
    },
    {
     "data": {
      "text/plain": [
       "array([961654.55763656])"
      ]
     },
     "execution_count": 148,
     "metadata": {},
     "output_type": "execute_result"
    }
   ],
   "source": [
    "Lasso_test.predict([[-1.677611,0.704581,-1.400273,1.244151,-0.123783,0.486403,0.460072,-0.962695,1.534157]])"
   ]
  },
  {
   "cell_type": "code",
   "execution_count": 150,
   "id": "486850b5-ed7f-4579-bc4d-3251c886827e",
   "metadata": {},
   "outputs": [
    {
     "data": {
      "text/plain": [
       "405     961656\n",
       "1190    151096\n",
       "1132     77603\n",
       "731     674099\n",
       "1754    421467\n",
       "Name: Price, dtype: int64"
      ]
     },
     "execution_count": 150,
     "metadata": {},
     "output_type": "execute_result"
    }
   ],
   "source": [
    "y_test.head()"
   ]
  },
  {
   "cell_type": "code",
   "execution_count": 156,
   "id": "3ff04a80-5d17-4cc3-a94f-af69a9fed483",
   "metadata": {},
   "outputs": [
    {
     "name": "stdout",
     "output_type": "stream",
     "text": [
      "Prediction of train data:\n"
     ]
    },
    {
     "data": {
      "text/plain": [
       "99.9999999987434"
      ]
     },
     "execution_count": 156,
     "metadata": {},
     "output_type": "execute_result"
    }
   ],
   "source": [
    "print(\"Prediction of train data:\")\n",
    "Lasso_test.score(x_train,y_train)*100"
   ]
  },
  {
   "cell_type": "code",
   "execution_count": 158,
   "id": "3af49ecb-8132-4dc4-a52a-805f7265bcb5",
   "metadata": {},
   "outputs": [
    {
     "name": "stdout",
     "output_type": "stream",
     "text": [
      "Prediction of test data:\n"
     ]
    },
    {
     "data": {
      "text/plain": [
       "99.9999999987408"
      ]
     },
     "execution_count": 158,
     "metadata": {},
     "output_type": "execute_result"
    }
   ],
   "source": [
    "print(\"Prediction of test data:\")\n",
    "Lasso_test.score(x_test,y_test)*100"
   ]
  },
  {
   "cell_type": "markdown",
   "id": "60c45047-e29e-4d32-9e83-8a0e987b0847",
   "metadata": {},
   "source": [
    "## Model is 99.99% accurate"
   ]
  },
  {
   "cell_type": "markdown",
   "id": "cbea8cbc-7eff-47ae-8053-7e0c186c1c47",
   "metadata": {},
   "source": [
    "# Summary"
   ]
  },
  {
   "cell_type": "markdown",
   "id": "4d04199d-da45-4055-8862-048c1434b55c",
   "metadata": {},
   "source": [
    "## 1. Predicted house prices using features like area, location, bedrooms, and condition.\n",
    "## 2. This Dataset has 2000 entries with 10 features.\n",
    "## 3. This data has no missing values.\n",
    "## 4. Categorical features (Location, Condition, Garage) encoded using LabelEncoder.\n",
    "## 5. Removed unnecessary Id column.\n",
    "## 6. Used Lasso Regression Model.\n",
    "## 7. Performance of Model: Achieved ~99.99% accuracy on both train and test data.\n",
    "## 8. Evaluation Metrics: MSE: 0.88(approx) and MAE: 0.80(approx)"
   ]
  },
  {
   "cell_type": "code",
   "execution_count": null,
   "id": "ad798b77-e93e-4b92-b2cb-d9e4a96ae699",
   "metadata": {},
   "outputs": [],
   "source": []
  }
 ],
 "metadata": {
  "kernelspec": {
   "display_name": "Python 3 (ipykernel)",
   "language": "python",
   "name": "python3"
  },
  "language_info": {
   "codemirror_mode": {
    "name": "ipython",
    "version": 3
   },
   "file_extension": ".py",
   "mimetype": "text/x-python",
   "name": "python",
   "nbconvert_exporter": "python",
   "pygments_lexer": "ipython3",
   "version": "3.12.4"
  }
 },
 "nbformat": 4,
 "nbformat_minor": 5
}
